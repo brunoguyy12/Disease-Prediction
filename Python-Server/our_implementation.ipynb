{
 "cells": [
  {
   "cell_type": "code",
   "execution_count": 1,
   "metadata": {},
   "outputs": [],
   "source": [
    "from tkinter import *\n",
    "import numpy as np\n",
    "import pandas as pd"
   ]
  },
  {
   "cell_type": "code",
   "execution_count": 9,
   "metadata": {},
   "outputs": [],
   "source": [
    "# TESTING DATA df -------------------------------------------------------------------------------------\n",
    "df=pd.read_csv(\"Training.csv\")\n",
    "# Drop the 'Unnamed' column if it exists\n",
    "df = df.loc[:, ~df.columns.str.contains('^Unnamed')]"
   ]
  },
  {
   "cell_type": "code",
   "execution_count": null,
   "metadata": {},
   "outputs": [
    {
     "data": {
      "text/plain": [
       "['Fungal infection',\n",
       " 'Allergy',\n",
       " 'GERD',\n",
       " 'Chronic cholestasis',\n",
       " 'Drug Reaction',\n",
       " 'Peptic ulcer diseae',\n",
       " 'AIDS',\n",
       " 'Diabetes',\n",
       " 'Gastroenteritis',\n",
       " 'Bronchial Asthma',\n",
       " 'Hypertension',\n",
       " 'Migraine',\n",
       " 'Cervical spondylosis',\n",
       " 'Paralysis (brain hemorrhage)',\n",
       " 'Jaundice',\n",
       " 'Malaria',\n",
       " 'Chicken pox',\n",
       " 'Dengue',\n",
       " 'Typhoid',\n",
       " 'hepatitis A',\n",
       " 'Hepatitis B',\n",
       " 'Hepatitis C',\n",
       " 'Hepatitis D',\n",
       " 'Hepatitis E',\n",
       " 'Alcoholic hepatitis',\n",
       " 'Tuberculosis',\n",
       " 'Common Cold',\n",
       " 'Pneumonia',\n",
       " 'Dimorphic hemmorhoids(piles)',\n",
       " 'Heart attack',\n",
       " 'Varicose veins',\n",
       " 'Hypothyroidism',\n",
       " 'Hyperthyroidism',\n",
       " 'Hypoglycemia',\n",
       " 'Osteoarthristis',\n",
       " 'Arthritis',\n",
       " '(vertigo) Paroymsal  Positional Vertigo',\n",
       " 'Acne',\n",
       " 'Urinary tract infection',\n",
       " 'Psoriasis',\n",
       " 'Impetigo']"
      ]
     },
     "execution_count": 10,
     "metadata": {},
     "output_type": "execute_result"
    }
   ],
   "source": [
    "# Instead of providing hardcoded symptoms and diseases, we can extract them from the dataset\n",
    "# # Option 2: Dynamically extract symptoms and diseases\n",
    "l1 = df.columns.drop(\"prognosis\").tolist()  # Symptoms from columns\n",
    "disease = df[\"prognosis\"].str.strip().unique().tolist()  # Unique cleaned diseases\n",
    "\n",
    "disease\n",
    "print(len(disease))"
   ]
  },
  {
   "cell_type": "code",
   "execution_count": null,
   "metadata": {},
   "outputs": [],
   "source": []
  },
  {
   "cell_type": "code",
   "execution_count": null,
   "metadata": {},
   "outputs": [],
   "source": []
  },
  {
   "cell_type": "code",
   "execution_count": 32,
   "metadata": {},
   "outputs": [],
   "source": [
    "l1 = df.columns.drop(\"prognosis\")\n",
    "# l1.to_list()"
   ]
  },
  {
   "cell_type": "code",
   "execution_count": null,
   "metadata": {},
   "outputs": [],
   "source": []
  }
 ],
 "metadata": {
  "kernelspec": {
   "display_name": "Python 3",
   "language": "python",
   "name": "python3"
  },
  "language_info": {
   "codemirror_mode": {
    "name": "ipython",
    "version": 3
   },
   "file_extension": ".py",
   "mimetype": "text/x-python",
   "name": "python",
   "nbconvert_exporter": "python",
   "pygments_lexer": "ipython3",
   "version": "3.13.2"
  }
 },
 "nbformat": 4,
 "nbformat_minor": 2
}
